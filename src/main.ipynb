{
 "cells": [
  {
   "cell_type": "markdown",
   "id": "ade0c501",
   "metadata": {},
   "source": [
    "# Interface"
   ]
  },
  {
   "cell_type": "code",
   "execution_count": 2,
   "id": "95c07442",
   "metadata": {},
   "outputs": [],
   "source": [
    "import cpu_solver as cpu\n",
    "import gpu_solver as gpu"
   ]
  },
  {
   "cell_type": "markdown",
   "id": "17b53c24",
   "metadata": {},
   "source": [
    "### Lid Driven Cavity Case\n",
    "\n",
    "The lid1.driven cavity problem is a popular benchmark in computational fluid dynamics (CFD). It involves a square 2D domain where the top lid moves at a constant velocity while the other walls remain stationary. The expected output is a singular large rotating mass of fluid in the centre of the domain (with smaller vortices inevitably forming as well). \n",
    "\n",
    "You will be able to specify\n",
    "1.  Kinematic Viscosity \n",
    "1.  Horizontal Velocity of the Lid \n",
    "1.  Density of the Fluid \n",
    "1.  Time Step \n",
    "1.  Total Duration \n",
    "1.  Grid Size \n",
    "1.  Internal Poisson Iterations "
   ]
  }
 ],
 "metadata": {
  "kernelspec": {
   "display_name": "base",
   "language": "python",
   "name": "python3"
  },
  "language_info": {
   "codemirror_mode": {
    "name": "ipython",
    "version": 3
   },
   "file_extension": ".py",
   "mimetype": "text/x-python",
   "name": "python",
   "nbconvert_exporter": "python",
   "pygments_lexer": "ipython3",
   "version": "3.13.2"
  }
 },
 "nbformat": 4,
 "nbformat_minor": 5
}
